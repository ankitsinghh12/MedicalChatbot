{
 "cells": [
  {
   "cell_type": "markdown",
   "metadata": {},
   "source": [
    "### Transforming disease data\n",
    "\n",
    "This part of the notebook shows the transformations over data related to diseases and symptoms. For each unique symptom, a new column was created in the dataframe. If symptom is typical for a paticular disease, then the column related to that symptom is set to 1, and otherwise to 0."
   ]
  },
  {
   "cell_type": "code",
   "execution_count": 1,
   "metadata": {},
   "outputs": [],
   "source": [
    "import pandas as pd\n",
    "import matplotlib.pyplot as plt\n",
    "import numpy as np\n",
    "import sklearn\n",
    "import pickle"
   ]
  },
  {
   "cell_type": "code",
   "execution_count": 2,
   "metadata": {},
   "outputs": [],
   "source": [
    "df = pd.read_csv(\"dataset.csv\")"
   ]
  },
  {
   "cell_type": "code",
   "execution_count": 3,
   "metadata": {},
   "outputs": [],
   "source": [
    "df = df.drop_duplicates()"
   ]
  },
  {
   "cell_type": "code",
   "execution_count": 4,
   "metadata": {},
   "outputs": [],
   "source": [
    "symptoms = np.concatenate((df.Symptom_1.unique(), df.Symptom_2.unique(), df.Symptom_3.unique(), df.Symptom_4.unique(), \n",
    "                          df.Symptom_5.unique(), df.Symptom_6.unique(), df.Symptom_7.unique(), df.Symptom_8.unique(), \n",
    "                          df.Symptom_9.unique(), df.Symptom_10.unique(), df.Symptom_11.unique(), df.Symptom_12.unique(), \n",
    "                          df.Symptom_13.unique(), df.Symptom_14.unique(), df.Symptom_15.unique(), df.Symptom_16.unique(), \n",
    "                          df.Symptom_17.unique()))"
   ]
  },
  {
   "cell_type": "code",
   "execution_count": 5,
   "metadata": {},
   "outputs": [],
   "source": [
    "symptoms_unique = list((set(symptoms)))"
   ]
  },
  {
   "cell_type": "code",
   "execution_count": 6,
   "metadata": {},
   "outputs": [
    {
     "data": {
      "text/plain": [
       "132"
      ]
     },
     "execution_count": 6,
     "metadata": {},
     "output_type": "execute_result"
    }
   ],
   "source": [
    "len(symptoms_unique)"
   ]
  },
  {
   "cell_type": "code",
   "execution_count": 7,
   "metadata": {},
   "outputs": [],
   "source": [
    "i = 18\n",
    "for each in symptoms_unique:\n",
    "    df.insert(i, each, 0)\n",
    "    i = i + 1"
   ]
  },
  {
   "cell_type": "code",
   "execution_count": 8,
   "metadata": {},
   "outputs": [],
   "source": [
    "df = df.fillna(0)"
   ]
  },
  {
   "cell_type": "code",
   "execution_count": 9,
   "metadata": {},
   "outputs": [],
   "source": [
    "for index, row in df.iterrows(): \n",
    "    disease_symptoms = [symptom for symptom in list(row)[1:] if symptom != 0]\n",
    "    for each in disease_symptoms: \n",
    "        df.at[index, each] = 1"
   ]
  },
  {
   "cell_type": "code",
   "execution_count": 10,
   "metadata": {},
   "outputs": [],
   "source": [
    "df = df.drop(columns = ['Symptom_1', 'Symptom_2', 'Symptom_3', 'Symptom_4', 'Symptom_5', 'Symptom_6', 'Symptom_7', 'Symptom_8', \n",
    "             'Symptom_9', 'Symptom_10', 'Symptom_11', 'Symptom_12', 'Symptom_13', 'Symptom_14', 'Symptom_15', 'Symptom_16'\n",
    "             , 'Symptom_17'])"
   ]
  },
  {
   "cell_type": "code",
   "execution_count": 11,
   "metadata": {},
   "outputs": [],
   "source": [
    "df = df.loc[:, df.columns.notnull()]\n",
    "df.columns = df.columns.str.replace(' ', '')\n",
    "df = df.reindex(sorted(df.columns), axis=1)"
   ]
  },
  {
   "cell_type": "code",
   "execution_count": 12,
   "metadata": {},
   "outputs": [
    {
     "data": {
      "text/plain": [
       "['Disease',\n",
       " 'abdominal_pain',\n",
       " 'abnormal_menstruation',\n",
       " 'acidity',\n",
       " 'acute_liver_failure',\n",
       " 'altered_sensorium',\n",
       " 'anxiety',\n",
       " 'back_pain',\n",
       " 'belly_pain',\n",
       " 'blackheads',\n",
       " 'bladder_discomfort',\n",
       " 'blister',\n",
       " 'blood_in_sputum',\n",
       " 'bloody_stool',\n",
       " 'blurred_and_distorted_vision',\n",
       " 'breathlessness',\n",
       " 'brittle_nails',\n",
       " 'bruising',\n",
       " 'burning_micturition',\n",
       " 'chest_pain',\n",
       " 'chills',\n",
       " 'cold_hands_and_feets',\n",
       " 'coma',\n",
       " 'congestion',\n",
       " 'constipation',\n",
       " 'continuous_feel_of_urine',\n",
       " 'continuous_sneezing',\n",
       " 'cough',\n",
       " 'cramps',\n",
       " 'dark_urine',\n",
       " 'dehydration',\n",
       " 'depression',\n",
       " 'diarrhoea',\n",
       " 'dischromic_patches',\n",
       " 'distention_of_abdomen',\n",
       " 'dizziness',\n",
       " 'drying_and_tingling_lips',\n",
       " 'enlarged_thyroid',\n",
       " 'excessive_hunger',\n",
       " 'extra_marital_contacts',\n",
       " 'family_history',\n",
       " 'fast_heart_rate',\n",
       " 'fatigue',\n",
       " 'fluid_overload',\n",
       " 'foul_smell_ofurine',\n",
       " 'headache',\n",
       " 'high_fever',\n",
       " 'hip_joint_pain',\n",
       " 'history_of_alcohol_consumption',\n",
       " 'increased_appetite',\n",
       " 'indigestion',\n",
       " 'inflammatory_nails',\n",
       " 'internal_itching',\n",
       " 'irregular_sugar_level',\n",
       " 'irritability',\n",
       " 'irritation_in_anus',\n",
       " 'itching',\n",
       " 'joint_pain',\n",
       " 'knee_pain',\n",
       " 'lack_of_concentration',\n",
       " 'lethargy',\n",
       " 'loss_of_appetite',\n",
       " 'loss_of_balance',\n",
       " 'loss_of_smell',\n",
       " 'malaise',\n",
       " 'mild_fever',\n",
       " 'mood_swings',\n",
       " 'movement_stiffness',\n",
       " 'mucoid_sputum',\n",
       " 'muscle_pain',\n",
       " 'muscle_wasting',\n",
       " 'muscle_weakness',\n",
       " 'nausea',\n",
       " 'neck_pain',\n",
       " 'nodal_skin_eruptions',\n",
       " 'obesity',\n",
       " 'pain_behind_the_eyes',\n",
       " 'pain_during_bowel_movements',\n",
       " 'pain_in_anal_region',\n",
       " 'painful_walking',\n",
       " 'palpitations',\n",
       " 'passage_of_gases',\n",
       " 'patches_in_throat',\n",
       " 'phlegm',\n",
       " 'polyuria',\n",
       " 'prominent_veins_on_calf',\n",
       " 'puffy_face_and_eyes',\n",
       " 'pus_filled_pimples',\n",
       " 'receiving_blood_transfusion',\n",
       " 'receiving_unsterile_injections',\n",
       " 'red_sore_around_nose',\n",
       " 'red_spots_over_body',\n",
       " 'redness_of_eyes',\n",
       " 'restlessness',\n",
       " 'runny_nose',\n",
       " 'rusty_sputum',\n",
       " 'scurring',\n",
       " 'shivering',\n",
       " 'silver_like_dusting',\n",
       " 'sinus_pressure',\n",
       " 'skin_peeling',\n",
       " 'skin_rash',\n",
       " 'slurred_speech',\n",
       " 'small_dents_in_nails',\n",
       " 'spinning_movements',\n",
       " 'spotting_urination',\n",
       " 'stiff_neck',\n",
       " 'stomach_bleeding',\n",
       " 'stomach_pain',\n",
       " 'sunken_eyes',\n",
       " 'sweating',\n",
       " 'swelled_lymph_nodes',\n",
       " 'swelling_joints',\n",
       " 'swelling_of_stomach',\n",
       " 'swollen_blood_vessels',\n",
       " 'swollen_extremeties',\n",
       " 'swollen_legs',\n",
       " 'throat_irritation',\n",
       " 'toxic_look_(typhos)',\n",
       " 'ulcers_on_tongue',\n",
       " 'unsteadiness',\n",
       " 'visual_disturbances',\n",
       " 'vomiting',\n",
       " 'watering_from_eyes',\n",
       " 'weakness_in_limbs',\n",
       " 'weakness_of_one_body_side',\n",
       " 'weight_gain',\n",
       " 'weight_loss',\n",
       " 'yellow_crust_ooze',\n",
       " 'yellow_urine',\n",
       " 'yellowing_of_eyes',\n",
       " 'yellowish_skin']"
      ]
     },
     "execution_count": 12,
     "metadata": {},
     "output_type": "execute_result"
    }
   ],
   "source": [
    "list(df.columns)"
   ]
  },
  {
   "cell_type": "markdown",
   "metadata": {},
   "source": [
    "### Description, Precaution and Symptom Severity data"
   ]
  },
  {
   "cell_type": "code",
   "execution_count": 13,
   "metadata": {},
   "outputs": [],
   "source": [
    "#treba uz predikciju vratiti i taj opis\n",
    "diseases_description = pd.read_csv(\"symptom_Description.csv\")"
   ]
  },
  {
   "cell_type": "code",
   "execution_count": 14,
   "metadata": {},
   "outputs": [],
   "source": [
    "#treba nekak uključiti u odluku treba li posjetiti doktora ili ne (ovisno o ukupnom severityu)\n",
    "symptom_severity = pd.read_csv(\"Symptom-severity.csv\")"
   ]
  },
  {
   "cell_type": "code",
   "execution_count": 15,
   "metadata": {},
   "outputs": [],
   "source": [
    "#treba to uz predikciju složiti kao neku rečenicu - NLP?\n",
    "disease_precaution = pd.read_csv(\"symptom_precaution.csv\")"
   ]
  },
  {
   "cell_type": "markdown",
   "metadata": {},
   "source": [
    "### Building the machine learning model"
   ]
  },
  {
   "cell_type": "code",
   "execution_count": 16,
   "metadata": {},
   "outputs": [
    {
     "name": "stdout",
     "output_type": "stream",
     "text": [
      "304\n",
      "304\n",
      "131\n"
     ]
    }
   ],
   "source": [
    "labels = df.to_numpy()[:, :1]\n",
    "examples = df.to_numpy()[:, 1:]\n",
    "list_of_symptoms = list(df.columns)[1:]\n",
    "\n",
    "with open('list_of_symptoms.pickle', 'wb') as data_file: \n",
    "    pickle.dump(list_of_symptoms, data_file)\n",
    "\n",
    "print(len(labels))\n",
    "print(len(examples))\n",
    "print(len(list_of_symptoms))"
   ]
  },
  {
   "cell_type": "code",
   "execution_count": 17,
   "metadata": {},
   "outputs": [],
   "source": [
    "from sklearn.model_selection import train_test_split\n",
    "from sklearn.neighbors import KNeighborsClassifier\n",
    "\n",
    "knn = KNeighborsClassifier(n_neighbors=10)\n",
    "X_train, X_test, y_train, y_test = train_test_split(examples, labels.ravel(), test_size=0.3)\n",
    "knn.fit(X_train, y_train)\n",
    "\n",
    "with open('fitted_model.pickle', 'wb') as modelFile:\n",
    "    model = pickle.dump(knn, modelFile)"
   ]
  },
  {
   "cell_type": "code",
   "execution_count": 18,
   "metadata": {},
   "outputs": [
    {
     "name": "stdout",
     "output_type": "stream",
     "text": [
      "Drug Reaction\n"
     ]
    }
   ],
   "source": [
    "symptoms = ['stomach_pain', 'headache'] \n",
    "x_test = []\n",
    "\n",
    "with open('list_of_symptoms.pickle', 'rb') as data_file:\n",
    "    symptoms_list = pickle.load(data_file)\n",
    "\n",
    "for each in symptoms_list: \n",
    "    if each in symptoms:\n",
    "        x_test.append(1)\n",
    "    else: \n",
    "        x_test.append(0)\n",
    "\n",
    "with open('fitted_model.pickle', 'rb') as modelFile:\n",
    "    model = pickle.load(modelFile)\n",
    "\n",
    "x_test = np.asarray(x_test)            \n",
    "disease = model.predict(x_test.reshape(1,-1))[0]\n",
    "print(disease)"
   ]
  },
  {
   "cell_type": "code",
   "execution_count": 19,
   "metadata": {},
   "outputs": [
    {
     "data": {
      "text/plain": [
       "0.7934782608695652"
      ]
     },
     "execution_count": 19,
     "metadata": {},
     "output_type": "execute_result"
    }
   ],
   "source": [
    "knn.score(X_test, y_test)"
   ]
  },
  {
   "cell_type": "code",
   "execution_count": 20,
   "metadata": {},
   "outputs": [],
   "source": [
    "description = diseases_description.loc[diseases_description['Disease'] == disease, 'Description'].iloc[0]"
   ]
  },
  {
   "cell_type": "code",
   "execution_count": 21,
   "metadata": {},
   "outputs": [
    {
     "data": {
      "text/html": [
       "<div>\n",
       "<style scoped>\n",
       "    .dataframe tbody tr th:only-of-type {\n",
       "        vertical-align: middle;\n",
       "    }\n",
       "\n",
       "    .dataframe tbody tr th {\n",
       "        vertical-align: top;\n",
       "    }\n",
       "\n",
       "    .dataframe thead th {\n",
       "        text-align: right;\n",
       "    }\n",
       "</style>\n",
       "<table border=\"1\" class=\"dataframe\">\n",
       "  <thead>\n",
       "    <tr style=\"text-align: right;\">\n",
       "      <th></th>\n",
       "      <th>Symptom</th>\n",
       "      <th>weight</th>\n",
       "    </tr>\n",
       "  </thead>\n",
       "  <tbody>\n",
       "    <tr>\n",
       "      <th>0</th>\n",
       "      <td>itching</td>\n",
       "      <td>1</td>\n",
       "    </tr>\n",
       "    <tr>\n",
       "      <th>21</th>\n",
       "      <td>lethargy</td>\n",
       "      <td>2</td>\n",
       "    </tr>\n",
       "    <tr>\n",
       "      <th>98</th>\n",
       "      <td>altered_sensorium</td>\n",
       "      <td>2</td>\n",
       "    </tr>\n",
       "    <tr>\n",
       "      <th>121</th>\n",
       "      <td>painful_walking</td>\n",
       "      <td>2</td>\n",
       "    </tr>\n",
       "    <tr>\n",
       "      <th>97</th>\n",
       "      <td>muscle_pain</td>\n",
       "      <td>2</td>\n",
       "    </tr>\n",
       "    <tr>\n",
       "      <th>...</th>\n",
       "      <td>...</td>\n",
       "      <td>...</td>\n",
       "    </tr>\n",
       "    <tr>\n",
       "      <th>25</th>\n",
       "      <td>high_fever</td>\n",
       "      <td>7</td>\n",
       "    </tr>\n",
       "    <tr>\n",
       "      <th>56</th>\n",
       "      <td>chest_pain</td>\n",
       "      <td>7</td>\n",
       "    </tr>\n",
       "    <tr>\n",
       "      <th>57</th>\n",
       "      <td>weakness_in_limbs</td>\n",
       "      <td>7</td>\n",
       "    </tr>\n",
       "    <tr>\n",
       "      <th>46</th>\n",
       "      <td>swelling_of_stomach</td>\n",
       "      <td>7</td>\n",
       "    </tr>\n",
       "    <tr>\n",
       "      <th>113</th>\n",
       "      <td>coma</td>\n",
       "      <td>7</td>\n",
       "    </tr>\n",
       "  </tbody>\n",
       "</table>\n",
       "<p>133 rows × 2 columns</p>\n",
       "</div>"
      ],
      "text/plain": [
       "                 Symptom  weight\n",
       "0                itching       1\n",
       "21              lethargy       2\n",
       "98     altered_sensorium       2\n",
       "121      painful_walking       2\n",
       "97           muscle_pain       2\n",
       "..                   ...     ...\n",
       "25            high_fever       7\n",
       "56            chest_pain       7\n",
       "57     weakness_in_limbs       7\n",
       "46   swelling_of_stomach       7\n",
       "113                 coma       7\n",
       "\n",
       "[133 rows x 2 columns]"
      ]
     },
     "execution_count": 21,
     "metadata": {},
     "output_type": "execute_result"
    }
   ],
   "source": [
    "symptom_severity.sort_values(by='weight')"
   ]
  },
  {
   "cell_type": "code",
   "execution_count": 22,
   "metadata": {},
   "outputs": [
    {
     "data": {
      "text/plain": [
       "array(['Drug Reaction'], dtype=object)"
      ]
     },
     "execution_count": 22,
     "metadata": {},
     "output_type": "execute_result"
    }
   ],
   "source": [
    "from sklearn.tree import DecisionTreeClassifier\n",
    "clf = DecisionTreeClassifier(random_state=0)\n",
    "\n",
    "dc_tree = clf.fit(X_train, y_train)\n",
    "dc_tree.predict(x_test.reshape(1,-1))"
   ]
  },
  {
   "cell_type": "code",
   "execution_count": 23,
   "metadata": {},
   "outputs": [
    {
     "data": {
      "text/plain": [
       "0.7065217391304348"
      ]
     },
     "execution_count": 23,
     "metadata": {},
     "output_type": "execute_result"
    }
   ],
   "source": [
    "dc_tree.score(X_test, y_test)"
   ]
  },
  {
   "cell_type": "code",
   "execution_count": null,
   "metadata": {},
   "outputs": [],
   "source": []
  }
 ],
 "metadata": {
  "kernelspec": {
   "display_name": "Python 3",
   "language": "python",
   "name": "python3"
  },
  "language_info": {
   "codemirror_mode": {
    "name": "ipython",
    "version": 3
   },
   "file_extension": ".py",
   "mimetype": "text/x-python",
   "name": "python",
   "nbconvert_exporter": "python",
   "pygments_lexer": "ipython3",
   "version": "3.8.3"
  }
 },
 "nbformat": 4,
 "nbformat_minor": 4
}
