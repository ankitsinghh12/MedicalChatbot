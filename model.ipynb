{
 "cells": [
  {
   "cell_type": "markdown",
   "metadata": {},
   "source": [
    "### Transforming disease data\n",
    "\n",
    "This part of the notebook shows the transformations over data related to diseases and symptoms. For each unique symptom, a new column was created in the dataframe. If symptom is typical for a paticular disease, then the column related to that symptom is set to 1, and otherwise to 0."
   ]
  },
  {
   "cell_type": "code",
   "execution_count": 1,
   "metadata": {},
   "outputs": [],
   "source": [
    "import pandas as pd\n",
    "import matplotlib.pyplot as plt\n",
    "import numpy as np\n",
    "import sklearn\n",
    "import pickle"
   ]
  },
  {
   "cell_type": "code",
   "execution_count": 2,
   "metadata": {},
   "outputs": [],
   "source": [
    "df = pd.read_csv(\"dataset.csv\")\n",
    "symptom_severity = pd.read_csv(\"Symptom-severity.csv\")"
   ]
  },
  {
   "cell_type": "code",
   "execution_count": 3,
   "metadata": {},
   "outputs": [],
   "source": [
    "df = df.drop_duplicates()"
   ]
  },
  {
   "cell_type": "code",
   "execution_count": 4,
   "metadata": {},
   "outputs": [],
   "source": [
    "symptoms = np.concatenate((df.Symptom_1.unique(), df.Symptom_2.unique(), df.Symptom_3.unique(), df.Symptom_4.unique(), \n",
    "                          df.Symptom_5.unique(), df.Symptom_6.unique(), df.Symptom_7.unique(), df.Symptom_8.unique(), \n",
    "                          df.Symptom_9.unique(), df.Symptom_10.unique(), df.Symptom_11.unique(), df.Symptom_12.unique(), \n",
    "                          df.Symptom_13.unique(), df.Symptom_14.unique(), df.Symptom_15.unique(), df.Symptom_16.unique(), \n",
    "                          df.Symptom_17.unique()))"
   ]
  },
  {
   "cell_type": "code",
   "execution_count": 5,
   "metadata": {},
   "outputs": [],
   "source": [
    "symptoms_unique = list((set(symptoms)))"
   ]
  },
  {
   "cell_type": "code",
   "execution_count": 6,
   "metadata": {},
   "outputs": [
    {
     "data": {
      "text/plain": [
       "132"
      ]
     },
     "execution_count": 6,
     "metadata": {},
     "output_type": "execute_result"
    }
   ],
   "source": [
    "len(symptoms_unique)"
   ]
  },
  {
   "cell_type": "code",
   "execution_count": 7,
   "metadata": {},
   "outputs": [],
   "source": [
    "i = 18\n",
    "for each in symptoms_unique:\n",
    "    df.insert(i, each, 0)\n",
    "    i = i + 1"
   ]
  },
  {
   "cell_type": "code",
   "execution_count": 8,
   "metadata": {},
   "outputs": [],
   "source": [
    "df = df.fillna(0)"
   ]
  },
  {
   "cell_type": "code",
   "execution_count": 9,
   "metadata": {},
   "outputs": [],
   "source": [
    "for index, row in df.iterrows(): \n",
    "    disease_symptoms = [symptom for symptom in list(row)[1:] if symptom != 0]\n",
    "    for each in disease_symptoms: \n",
    "        df.at[index, each] = 1"
   ]
  },
  {
   "cell_type": "code",
   "execution_count": 10,
   "metadata": {},
   "outputs": [],
   "source": [
    "df = df.drop(columns = ['Symptom_1', 'Symptom_2', 'Symptom_3', 'Symptom_4', 'Symptom_5', 'Symptom_6', 'Symptom_7', 'Symptom_8', \n",
    "             'Symptom_9', 'Symptom_10', 'Symptom_11', 'Symptom_12', 'Symptom_13', 'Symptom_14', 'Symptom_15', 'Symptom_16'\n",
    "             , 'Symptom_17'])"
   ]
  },
  {
   "cell_type": "code",
   "execution_count": 11,
   "metadata": {},
   "outputs": [],
   "source": [
    "df = df.loc[:, df.columns.notnull()]\n",
    "df.columns = df.columns.str.replace(' ', '')\n",
    "df = df.reindex(sorted(df.columns), axis=1)"
   ]
  },
  {
   "cell_type": "code",
   "execution_count": 12,
   "metadata": {},
   "outputs": [
    {
     "data": {
      "text/plain": [
       "['Disease',\n",
       " 'abdominal_pain',\n",
       " 'abnormal_menstruation',\n",
       " 'acidity',\n",
       " 'acute_liver_failure',\n",
       " 'altered_sensorium',\n",
       " 'anxiety',\n",
       " 'back_pain',\n",
       " 'belly_pain',\n",
       " 'blackheads',\n",
       " 'bladder_discomfort',\n",
       " 'blister',\n",
       " 'blood_in_sputum',\n",
       " 'bloody_stool',\n",
       " 'blurred_and_distorted_vision',\n",
       " 'breathlessness',\n",
       " 'brittle_nails',\n",
       " 'bruising',\n",
       " 'burning_micturition',\n",
       " 'chest_pain',\n",
       " 'chills',\n",
       " 'cold_hands_and_feets',\n",
       " 'coma',\n",
       " 'congestion',\n",
       " 'constipation',\n",
       " 'continuous_feel_of_urine',\n",
       " 'continuous_sneezing',\n",
       " 'cough',\n",
       " 'cramps',\n",
       " 'dark_urine',\n",
       " 'dehydration',\n",
       " 'depression',\n",
       " 'diarrhoea',\n",
       " 'dischromic_patches',\n",
       " 'distention_of_abdomen',\n",
       " 'dizziness',\n",
       " 'drying_and_tingling_lips',\n",
       " 'enlarged_thyroid',\n",
       " 'excessive_hunger',\n",
       " 'extra_marital_contacts',\n",
       " 'family_history',\n",
       " 'fast_heart_rate',\n",
       " 'fatigue',\n",
       " 'fluid_overload',\n",
       " 'foul_smell_ofurine',\n",
       " 'headache',\n",
       " 'high_fever',\n",
       " 'hip_joint_pain',\n",
       " 'history_of_alcohol_consumption',\n",
       " 'increased_appetite',\n",
       " 'indigestion',\n",
       " 'inflammatory_nails',\n",
       " 'internal_itching',\n",
       " 'irregular_sugar_level',\n",
       " 'irritability',\n",
       " 'irritation_in_anus',\n",
       " 'itching',\n",
       " 'joint_pain',\n",
       " 'knee_pain',\n",
       " 'lack_of_concentration',\n",
       " 'lethargy',\n",
       " 'loss_of_appetite',\n",
       " 'loss_of_balance',\n",
       " 'loss_of_smell',\n",
       " 'malaise',\n",
       " 'mild_fever',\n",
       " 'mood_swings',\n",
       " 'movement_stiffness',\n",
       " 'mucoid_sputum',\n",
       " 'muscle_pain',\n",
       " 'muscle_wasting',\n",
       " 'muscle_weakness',\n",
       " 'nausea',\n",
       " 'neck_pain',\n",
       " 'nodal_skin_eruptions',\n",
       " 'obesity',\n",
       " 'pain_behind_the_eyes',\n",
       " 'pain_during_bowel_movements',\n",
       " 'pain_in_anal_region',\n",
       " 'painful_walking',\n",
       " 'palpitations',\n",
       " 'passage_of_gases',\n",
       " 'patches_in_throat',\n",
       " 'phlegm',\n",
       " 'polyuria',\n",
       " 'prominent_veins_on_calf',\n",
       " 'puffy_face_and_eyes',\n",
       " 'pus_filled_pimples',\n",
       " 'receiving_blood_transfusion',\n",
       " 'receiving_unsterile_injections',\n",
       " 'red_sore_around_nose',\n",
       " 'red_spots_over_body',\n",
       " 'redness_of_eyes',\n",
       " 'restlessness',\n",
       " 'runny_nose',\n",
       " 'rusty_sputum',\n",
       " 'scurring',\n",
       " 'shivering',\n",
       " 'silver_like_dusting',\n",
       " 'sinus_pressure',\n",
       " 'skin_peeling',\n",
       " 'skin_rash',\n",
       " 'slurred_speech',\n",
       " 'small_dents_in_nails',\n",
       " 'spinning_movements',\n",
       " 'spotting_urination',\n",
       " 'stiff_neck',\n",
       " 'stomach_bleeding',\n",
       " 'stomach_pain',\n",
       " 'sunken_eyes',\n",
       " 'sweating',\n",
       " 'swelled_lymph_nodes',\n",
       " 'swelling_joints',\n",
       " 'swelling_of_stomach',\n",
       " 'swollen_blood_vessels',\n",
       " 'swollen_extremeties',\n",
       " 'swollen_legs',\n",
       " 'throat_irritation',\n",
       " 'toxic_look_(typhos)',\n",
       " 'ulcers_on_tongue',\n",
       " 'unsteadiness',\n",
       " 'visual_disturbances',\n",
       " 'vomiting',\n",
       " 'watering_from_eyes',\n",
       " 'weakness_in_limbs',\n",
       " 'weakness_of_one_body_side',\n",
       " 'weight_gain',\n",
       " 'weight_loss',\n",
       " 'yellow_crust_ooze',\n",
       " 'yellow_urine',\n",
       " 'yellowing_of_eyes',\n",
       " 'yellowish_skin']"
      ]
     },
     "execution_count": 12,
     "metadata": {},
     "output_type": "execute_result"
    }
   ],
   "source": [
    "list(df.columns)"
   ]
  },
  {
   "cell_type": "code",
   "execution_count": 13,
   "metadata": {},
   "outputs": [
    {
     "data": {
      "text/html": [
       "<div>\n",
       "<style scoped>\n",
       "    .dataframe tbody tr th:only-of-type {\n",
       "        vertical-align: middle;\n",
       "    }\n",
       "\n",
       "    .dataframe tbody tr th {\n",
       "        vertical-align: top;\n",
       "    }\n",
       "\n",
       "    .dataframe thead th {\n",
       "        text-align: right;\n",
       "    }\n",
       "</style>\n",
       "<table border=\"1\" class=\"dataframe\">\n",
       "  <thead>\n",
       "    <tr style=\"text-align: right;\">\n",
       "      <th></th>\n",
       "      <th>Disease</th>\n",
       "      <th>abdominal_pain</th>\n",
       "      <th>abnormal_menstruation</th>\n",
       "      <th>acidity</th>\n",
       "      <th>acute_liver_failure</th>\n",
       "      <th>altered_sensorium</th>\n",
       "      <th>anxiety</th>\n",
       "      <th>back_pain</th>\n",
       "      <th>belly_pain</th>\n",
       "      <th>blackheads</th>\n",
       "      <th>...</th>\n",
       "      <th>vomiting</th>\n",
       "      <th>watering_from_eyes</th>\n",
       "      <th>weakness_in_limbs</th>\n",
       "      <th>weakness_of_one_body_side</th>\n",
       "      <th>weight_gain</th>\n",
       "      <th>weight_loss</th>\n",
       "      <th>yellow_crust_ooze</th>\n",
       "      <th>yellow_urine</th>\n",
       "      <th>yellowing_of_eyes</th>\n",
       "      <th>yellowish_skin</th>\n",
       "    </tr>\n",
       "  </thead>\n",
       "  <tbody>\n",
       "    <tr>\n",
       "      <th>0</th>\n",
       "      <td>Fungal infection</td>\n",
       "      <td>0</td>\n",
       "      <td>0</td>\n",
       "      <td>0</td>\n",
       "      <td>0</td>\n",
       "      <td>0</td>\n",
       "      <td>0</td>\n",
       "      <td>0</td>\n",
       "      <td>0</td>\n",
       "      <td>0</td>\n",
       "      <td>...</td>\n",
       "      <td>0</td>\n",
       "      <td>0</td>\n",
       "      <td>0</td>\n",
       "      <td>0</td>\n",
       "      <td>0</td>\n",
       "      <td>0</td>\n",
       "      <td>0</td>\n",
       "      <td>0</td>\n",
       "      <td>0</td>\n",
       "      <td>0</td>\n",
       "    </tr>\n",
       "    <tr>\n",
       "      <th>1</th>\n",
       "      <td>Fungal infection</td>\n",
       "      <td>0</td>\n",
       "      <td>0</td>\n",
       "      <td>0</td>\n",
       "      <td>0</td>\n",
       "      <td>0</td>\n",
       "      <td>0</td>\n",
       "      <td>0</td>\n",
       "      <td>0</td>\n",
       "      <td>0</td>\n",
       "      <td>...</td>\n",
       "      <td>0</td>\n",
       "      <td>0</td>\n",
       "      <td>0</td>\n",
       "      <td>0</td>\n",
       "      <td>0</td>\n",
       "      <td>0</td>\n",
       "      <td>0</td>\n",
       "      <td>0</td>\n",
       "      <td>0</td>\n",
       "      <td>0</td>\n",
       "    </tr>\n",
       "    <tr>\n",
       "      <th>2</th>\n",
       "      <td>Fungal infection</td>\n",
       "      <td>0</td>\n",
       "      <td>0</td>\n",
       "      <td>0</td>\n",
       "      <td>0</td>\n",
       "      <td>0</td>\n",
       "      <td>0</td>\n",
       "      <td>0</td>\n",
       "      <td>0</td>\n",
       "      <td>0</td>\n",
       "      <td>...</td>\n",
       "      <td>0</td>\n",
       "      <td>0</td>\n",
       "      <td>0</td>\n",
       "      <td>0</td>\n",
       "      <td>0</td>\n",
       "      <td>0</td>\n",
       "      <td>0</td>\n",
       "      <td>0</td>\n",
       "      <td>0</td>\n",
       "      <td>0</td>\n",
       "    </tr>\n",
       "    <tr>\n",
       "      <th>3</th>\n",
       "      <td>Fungal infection</td>\n",
       "      <td>0</td>\n",
       "      <td>0</td>\n",
       "      <td>0</td>\n",
       "      <td>0</td>\n",
       "      <td>0</td>\n",
       "      <td>0</td>\n",
       "      <td>0</td>\n",
       "      <td>0</td>\n",
       "      <td>0</td>\n",
       "      <td>...</td>\n",
       "      <td>0</td>\n",
       "      <td>0</td>\n",
       "      <td>0</td>\n",
       "      <td>0</td>\n",
       "      <td>0</td>\n",
       "      <td>0</td>\n",
       "      <td>0</td>\n",
       "      <td>0</td>\n",
       "      <td>0</td>\n",
       "      <td>0</td>\n",
       "    </tr>\n",
       "    <tr>\n",
       "      <th>4</th>\n",
       "      <td>Fungal infection</td>\n",
       "      <td>0</td>\n",
       "      <td>0</td>\n",
       "      <td>0</td>\n",
       "      <td>0</td>\n",
       "      <td>0</td>\n",
       "      <td>0</td>\n",
       "      <td>0</td>\n",
       "      <td>0</td>\n",
       "      <td>0</td>\n",
       "      <td>...</td>\n",
       "      <td>0</td>\n",
       "      <td>0</td>\n",
       "      <td>0</td>\n",
       "      <td>0</td>\n",
       "      <td>0</td>\n",
       "      <td>0</td>\n",
       "      <td>0</td>\n",
       "      <td>0</td>\n",
       "      <td>0</td>\n",
       "      <td>0</td>\n",
       "    </tr>\n",
       "    <tr>\n",
       "      <th>...</th>\n",
       "      <td>...</td>\n",
       "      <td>...</td>\n",
       "      <td>...</td>\n",
       "      <td>...</td>\n",
       "      <td>...</td>\n",
       "      <td>...</td>\n",
       "      <td>...</td>\n",
       "      <td>...</td>\n",
       "      <td>...</td>\n",
       "      <td>...</td>\n",
       "      <td>...</td>\n",
       "      <td>...</td>\n",
       "      <td>...</td>\n",
       "      <td>...</td>\n",
       "      <td>...</td>\n",
       "      <td>...</td>\n",
       "      <td>...</td>\n",
       "      <td>...</td>\n",
       "      <td>...</td>\n",
       "      <td>...</td>\n",
       "      <td>...</td>\n",
       "    </tr>\n",
       "    <tr>\n",
       "      <th>402</th>\n",
       "      <td>Impetigo</td>\n",
       "      <td>0</td>\n",
       "      <td>0</td>\n",
       "      <td>0</td>\n",
       "      <td>0</td>\n",
       "      <td>0</td>\n",
       "      <td>0</td>\n",
       "      <td>0</td>\n",
       "      <td>0</td>\n",
       "      <td>0</td>\n",
       "      <td>...</td>\n",
       "      <td>0</td>\n",
       "      <td>0</td>\n",
       "      <td>0</td>\n",
       "      <td>0</td>\n",
       "      <td>0</td>\n",
       "      <td>0</td>\n",
       "      <td>1</td>\n",
       "      <td>0</td>\n",
       "      <td>0</td>\n",
       "      <td>0</td>\n",
       "    </tr>\n",
       "    <tr>\n",
       "      <th>403</th>\n",
       "      <td>Impetigo</td>\n",
       "      <td>0</td>\n",
       "      <td>0</td>\n",
       "      <td>0</td>\n",
       "      <td>0</td>\n",
       "      <td>0</td>\n",
       "      <td>0</td>\n",
       "      <td>0</td>\n",
       "      <td>0</td>\n",
       "      <td>0</td>\n",
       "      <td>...</td>\n",
       "      <td>0</td>\n",
       "      <td>0</td>\n",
       "      <td>0</td>\n",
       "      <td>0</td>\n",
       "      <td>0</td>\n",
       "      <td>0</td>\n",
       "      <td>1</td>\n",
       "      <td>0</td>\n",
       "      <td>0</td>\n",
       "      <td>0</td>\n",
       "    </tr>\n",
       "    <tr>\n",
       "      <th>405</th>\n",
       "      <td>Impetigo</td>\n",
       "      <td>0</td>\n",
       "      <td>0</td>\n",
       "      <td>0</td>\n",
       "      <td>0</td>\n",
       "      <td>0</td>\n",
       "      <td>0</td>\n",
       "      <td>0</td>\n",
       "      <td>0</td>\n",
       "      <td>0</td>\n",
       "      <td>...</td>\n",
       "      <td>0</td>\n",
       "      <td>0</td>\n",
       "      <td>0</td>\n",
       "      <td>0</td>\n",
       "      <td>0</td>\n",
       "      <td>0</td>\n",
       "      <td>1</td>\n",
       "      <td>0</td>\n",
       "      <td>0</td>\n",
       "      <td>0</td>\n",
       "    </tr>\n",
       "    <tr>\n",
       "      <th>406</th>\n",
       "      <td>Impetigo</td>\n",
       "      <td>0</td>\n",
       "      <td>0</td>\n",
       "      <td>0</td>\n",
       "      <td>0</td>\n",
       "      <td>0</td>\n",
       "      <td>0</td>\n",
       "      <td>0</td>\n",
       "      <td>0</td>\n",
       "      <td>0</td>\n",
       "      <td>...</td>\n",
       "      <td>0</td>\n",
       "      <td>0</td>\n",
       "      <td>0</td>\n",
       "      <td>0</td>\n",
       "      <td>0</td>\n",
       "      <td>0</td>\n",
       "      <td>1</td>\n",
       "      <td>0</td>\n",
       "      <td>0</td>\n",
       "      <td>0</td>\n",
       "    </tr>\n",
       "    <tr>\n",
       "      <th>407</th>\n",
       "      <td>Impetigo</td>\n",
       "      <td>0</td>\n",
       "      <td>0</td>\n",
       "      <td>0</td>\n",
       "      <td>0</td>\n",
       "      <td>0</td>\n",
       "      <td>0</td>\n",
       "      <td>0</td>\n",
       "      <td>0</td>\n",
       "      <td>0</td>\n",
       "      <td>...</td>\n",
       "      <td>0</td>\n",
       "      <td>0</td>\n",
       "      <td>0</td>\n",
       "      <td>0</td>\n",
       "      <td>0</td>\n",
       "      <td>0</td>\n",
       "      <td>0</td>\n",
       "      <td>0</td>\n",
       "      <td>0</td>\n",
       "      <td>0</td>\n",
       "    </tr>\n",
       "  </tbody>\n",
       "</table>\n",
       "<p>304 rows × 132 columns</p>\n",
       "</div>"
      ],
      "text/plain": [
       "              Disease  abdominal_pain  abnormal_menstruation  acidity  \\\n",
       "0    Fungal infection               0                      0        0   \n",
       "1    Fungal infection               0                      0        0   \n",
       "2    Fungal infection               0                      0        0   \n",
       "3    Fungal infection               0                      0        0   \n",
       "4    Fungal infection               0                      0        0   \n",
       "..                ...             ...                    ...      ...   \n",
       "402          Impetigo               0                      0        0   \n",
       "403          Impetigo               0                      0        0   \n",
       "405          Impetigo               0                      0        0   \n",
       "406          Impetigo               0                      0        0   \n",
       "407          Impetigo               0                      0        0   \n",
       "\n",
       "     acute_liver_failure  altered_sensorium  anxiety  back_pain  belly_pain  \\\n",
       "0                      0                  0        0          0           0   \n",
       "1                      0                  0        0          0           0   \n",
       "2                      0                  0        0          0           0   \n",
       "3                      0                  0        0          0           0   \n",
       "4                      0                  0        0          0           0   \n",
       "..                   ...                ...      ...        ...         ...   \n",
       "402                    0                  0        0          0           0   \n",
       "403                    0                  0        0          0           0   \n",
       "405                    0                  0        0          0           0   \n",
       "406                    0                  0        0          0           0   \n",
       "407                    0                  0        0          0           0   \n",
       "\n",
       "     blackheads  ...  vomiting  watering_from_eyes  weakness_in_limbs  \\\n",
       "0             0  ...         0                   0                  0   \n",
       "1             0  ...         0                   0                  0   \n",
       "2             0  ...         0                   0                  0   \n",
       "3             0  ...         0                   0                  0   \n",
       "4             0  ...         0                   0                  0   \n",
       "..          ...  ...       ...                 ...                ...   \n",
       "402           0  ...         0                   0                  0   \n",
       "403           0  ...         0                   0                  0   \n",
       "405           0  ...         0                   0                  0   \n",
       "406           0  ...         0                   0                  0   \n",
       "407           0  ...         0                   0                  0   \n",
       "\n",
       "     weakness_of_one_body_side  weight_gain  weight_loss  yellow_crust_ooze  \\\n",
       "0                            0            0            0                  0   \n",
       "1                            0            0            0                  0   \n",
       "2                            0            0            0                  0   \n",
       "3                            0            0            0                  0   \n",
       "4                            0            0            0                  0   \n",
       "..                         ...          ...          ...                ...   \n",
       "402                          0            0            0                  1   \n",
       "403                          0            0            0                  1   \n",
       "405                          0            0            0                  1   \n",
       "406                          0            0            0                  1   \n",
       "407                          0            0            0                  0   \n",
       "\n",
       "     yellow_urine  yellowing_of_eyes  yellowish_skin  \n",
       "0               0                  0               0  \n",
       "1               0                  0               0  \n",
       "2               0                  0               0  \n",
       "3               0                  0               0  \n",
       "4               0                  0               0  \n",
       "..            ...                ...             ...  \n",
       "402             0                  0               0  \n",
       "403             0                  0               0  \n",
       "405             0                  0               0  \n",
       "406             0                  0               0  \n",
       "407             0                  0               0  \n",
       "\n",
       "[304 rows x 132 columns]"
      ]
     },
     "execution_count": 13,
     "metadata": {},
     "output_type": "execute_result"
    }
   ],
   "source": [
    "df"
   ]
  },
  {
   "cell_type": "markdown",
   "metadata": {},
   "source": [
    "### Description, Precaution and Symptom Severity data"
   ]
  },
  {
   "cell_type": "code",
   "execution_count": 14,
   "metadata": {},
   "outputs": [],
   "source": [
    "#treba uz predikciju vratiti i taj opis\n",
    "diseases_description = pd.read_csv(\"symptom_Description.csv\")"
   ]
  },
  {
   "cell_type": "code",
   "execution_count": 15,
   "metadata": {},
   "outputs": [],
   "source": [
    "#treba to uz predikciju složiti kao neku rečenicu - NLP?\n",
    "disease_precaution = pd.read_csv(\"symptom_precaution.csv\")"
   ]
  },
  {
   "cell_type": "markdown",
   "metadata": {},
   "source": [
    "### Building the machine learning model"
   ]
  },
  {
   "cell_type": "code",
   "execution_count": 16,
   "metadata": {},
   "outputs": [
    {
     "name": "stdout",
     "output_type": "stream",
     "text": [
      "304\n",
      "304\n",
      "131\n"
     ]
    }
   ],
   "source": [
    "labels = df.to_numpy()[:, :1]\n",
    "examples = df.to_numpy()[:, 1:]\n",
    "list_of_symptoms = list(df.columns)[1:]\n",
    "\n",
    "with open('list_of_symptoms.pickle', 'wb') as data_file: \n",
    "    pickle.dump(list_of_symptoms, data_file)\n",
    "\n",
    "print(len(labels))\n",
    "print(len(examples))\n",
    "print(len(list_of_symptoms))"
   ]
  },
  {
   "cell_type": "code",
   "execution_count": 147,
   "metadata": {},
   "outputs": [],
   "source": [
    "from sklearn.model_selection import train_test_split\n",
    "from sklearn.neighbors import KNeighborsClassifier\n",
    "\n",
    "knn = KNeighborsClassifier(n_neighbors=6, metric='cosine')\n",
    "X_train, X_test, y_train, y_test = train_test_split(examples, labels.ravel(), test_size=0.2)\n",
    "knn.fit(X_train, y_train)"
   ]
  },
  {
   "cell_type": "code",
   "execution_count": 167,
   "metadata": {},
   "outputs": [
    {
     "name": "stdout",
     "output_type": "stream",
     "text": [
      "Paralysis (brain hemorrhage)\n"
     ]
    }
   ],
   "source": [
    "symptoms = ['stomach_pain', 'headache'] \n",
    "x_test = []\n",
    "\n",
    "with open('list_of_symptoms.pickle', 'rb') as data_file:\n",
    "    symptoms_list = pickle.load(data_file)\n",
    "\n",
    "for each in symptoms_list: \n",
    "    if each in symptoms:\n",
    "        x_test.append(1)\n",
    "    else: \n",
    "        x_test.append(0)\n",
    "\n",
    "x_test = np.asarray(x_test)            \n",
    "disease = knn.predict(x_test.reshape(1,-1))[0]\n",
    "print(disease)"
   ]
  },
  {
   "cell_type": "code",
   "execution_count": 149,
   "metadata": {},
   "outputs": [],
   "source": [
    "description = diseases_description.loc[diseases_description['Disease'] == disease, 'Description'].iloc[0]"
   ]
  },
  {
   "cell_type": "code",
   "execution_count": 150,
   "metadata": {},
   "outputs": [
    {
     "data": {
      "text/plain": [
       "0.9836065573770492"
      ]
     },
     "execution_count": 150,
     "metadata": {},
     "output_type": "execute_result"
    }
   ],
   "source": [
    "knn.score(X_test, y_test)"
   ]
  },
  {
   "cell_type": "code",
   "execution_count": 160,
   "metadata": {},
   "outputs": [],
   "source": [
    "def cross_validation(X_train, y_train, X_test, y_test, model_name, parameter_range=50): \n",
    "    train_errors = []\n",
    "    test_errors = []\n",
    "    \n",
    "    parameters = np.linspace(1, parameter_range, parameter_range, dtype=int)\n",
    "    \n",
    "    for parameter in parameters: \n",
    "        if model_name == 'knn':            \n",
    "            model = KNeighborsClassifier(n_neighbors=parameter, metric='cosine')\n",
    "        elif model_name == 'logreg':\n",
    "            model = LogisticRegression(solver='liblinear', C=1/(parameter*20))\n",
    "        elif model_name == 'dctree':\n",
    "            model = DecisionTreeClassifier(splitter='random', max_depth=parameter)\n",
    "        elif model_name =='svm': \n",
    "            model = SVC(C=1/parameter*10, gamma=1-1/(parameter+1))\n",
    "            \n",
    "        model.fit(X_train, y_train)\n",
    "        learning_error = 1 - model.score(X_train, y_train) \n",
    "        testing_error = 1 - model.score(X_test, y_test)\n",
    "        train_errors.append(learning_error)\n",
    "        test_errors.append(testing_error)\n",
    "    \n",
    "    if model_name == 'logreg':\n",
    "        best_parameter_value = 1/(parameters[np.argmin(test_errors)]*20)\n",
    "    else: \n",
    "        best_parameter_value = parameters[np.argmin(test_errors)]\n",
    "    \n",
    "    return parameters, best_parameter_value, train_errors, test_errors\n",
    "    "
   ]
  },
  {
   "cell_type": "code",
   "execution_count": 152,
   "metadata": {},
   "outputs": [
    {
     "data": {
      "image/png": "[encoded data removed]",
      "text/plain": [
       "<Figure size 720x288 with 1 Axes>"
      ]
     },
     "metadata": {
      "needs_background": "light"
     },
     "output_type": "display_data"
    }
   ],
   "source": [
    "k_range = 20\n",
    "\n",
    "fig = plt.figure(figsize=(10,4))\n",
    "\n",
    "\n",
    "k, best_k, train_errors, test_errors = cross_validation(X_train, y_train, X_test, y_test, model_name='knn')\n",
    "plt.title(f\"Optimal k = {best_k}\")\n",
    "plt.plot(k, train_errors, c='purple', label='Training error')\n",
    "plt.plot(k, test_errors, c='orange', label='Testing error')\n",
    "plt.legend()\n",
    "        \n",
    "plt.show()"
   ]
  },
  {
   "cell_type": "code",
   "execution_count": 153,
   "metadata": {},
   "outputs": [
    {
     "data": {
      "text/plain": [
       "array(['Drug Reaction'], dtype=object)"
      ]
     },
     "execution_count": 153,
     "metadata": {},
     "output_type": "execute_result"
    }
   ],
   "source": [
    "from sklearn.tree import DecisionTreeClassifier\n",
    "clf = DecisionTreeClassifier(splitter='random', max_depth=100)\n",
    "\n",
    "dc_tree = clf.fit(X_train, y_train)\n",
    "dc_tree.predict(x_test.reshape(1,-1))"
   ]
  },
  {
   "cell_type": "code",
   "execution_count": 154,
   "metadata": {},
   "outputs": [
    {
     "data": {
      "text/plain": [
       "0.6721311475409836"
      ]
     },
     "execution_count": 154,
     "metadata": {},
     "output_type": "execute_result"
    }
   ],
   "source": [
    "dc_tree.score(X_test, y_test)"
   ]
  },
  {
   "cell_type": "code",
   "execution_count": 132,
   "metadata": {},
   "outputs": [
    {
     "data": {
      "image/png": "[encoded data removed]",
      "text/plain": [
       "<Figure size 720x288 with 1 Axes>"
      ]
     },
     "metadata": {
      "needs_background": "light"
     },
     "output_type": "display_data"
    }
   ],
   "source": [
    "fig = plt.figure(figsize=(10,4))\n",
    "\n",
    "depth, best_depth, train_errors, test_errors = cross_validation(X_train, y_train, X_test, y_test, model_name='dctree')\n",
    "plt.title(f\"Optimal depth = {best_depth}\")\n",
    "plt.plot(depth, train_errors, c='purple', label='Training error')\n",
    "plt.plot(depth, test_errors, c='orange', label='Testing error')\n",
    "plt.legend()\n",
    "        \n",
    "plt.show()"
   ]
  },
  {
   "cell_type": "code",
   "execution_count": 133,
   "metadata": {},
   "outputs": [
    {
     "data": {
      "text/plain": [
       "array(['GERD'], dtype=object)"
      ]
     },
     "execution_count": 133,
     "metadata": {},
     "output_type": "execute_result"
    }
   ],
   "source": [
    "from sklearn.linear_model import LogisticRegression\n",
    "\n",
    "logreg = LogisticRegression(solver='liblinear', C=0.05)\n",
    "\n",
    "logreg.fit(X_train, y_train)\n",
    "logreg.predict(x_test.reshape(1,-1))"
   ]
  },
  {
   "cell_type": "code",
   "execution_count": 134,
   "metadata": {},
   "outputs": [
    {
     "name": "stdout",
     "output_type": "stream",
     "text": [
      "0.9508196721311475\n"
     ]
    }
   ],
   "source": [
    "print(logreg.score(X_test, y_test))"
   ]
  },
  {
   "cell_type": "code",
   "execution_count": 158,
   "metadata": {},
   "outputs": [
    {
     "data": {
      "image/png": "[encoded data removed]",
      "text/plain": [
       "<Figure size 720x288 with 1 Axes>"
      ]
     },
     "metadata": {
      "needs_background": "light"
     },
     "output_type": "display_data"
    }
   ],
   "source": [
    "fig = plt.figure(figsize=(10,4))\n",
    "\n",
    "c, best_c, train_errors, test_errors = cross_validation(X_train, y_train, X_test, y_test, model_name='logreg')\n",
    "plt.title(f\"Optimal C = {best_c}\")\n",
    "plt.plot(c, train_errors, c='purple', label='Training error')\n",
    "plt.plot(c, test_errors, c='orange', label='Testing error')\n",
    "plt.legend()\n",
    "        \n",
    "plt.show()"
   ]
  },
  {
   "cell_type": "code",
   "execution_count": 136,
   "metadata": {},
   "outputs": [
    {
     "data": {
      "text/plain": [
       "array(['(vertigo) Paroymsal  Positional Vertigo'], dtype=object)"
      ]
     },
     "execution_count": 136,
     "metadata": {},
     "output_type": "execute_result"
    }
   ],
   "source": [
    "from sklearn.svm import SVC\n",
    "\n",
    "svm = SVC(C=0.3)\n",
    "svm.fit(X_train, y_train)\n",
    "svm.predict(x_test.reshape(1,-1))"
   ]
  },
  {
   "cell_type": "code",
   "execution_count": 137,
   "metadata": {},
   "outputs": [
    {
     "name": "stdout",
     "output_type": "stream",
     "text": [
      "0.7377049180327869\n"
     ]
    }
   ],
   "source": [
    "print(svm.score(X_test, y_test))"
   ]
  },
  {
   "cell_type": "code",
   "execution_count": 162,
   "metadata": {},
   "outputs": [
    {
     "data": {
      "image/png": "[encoded data removed]",
      "text/plain": [
       "<Figure size 720x288 with 1 Axes>"
      ]
     },
     "metadata": {
      "needs_background": "light"
     },
     "output_type": "display_data"
    }
   ],
   "source": [
    "fig = plt.figure(figsize=(10,4))\n",
    "\n",
    "c, best_c, train_errors, test_errors = cross_validation(X_train, y_train, X_test, y_test, model_name='svm')\n",
    "plt.title(f\"Optimal C = {best_c}, gamma = {1-1/(10/best_c + 1)}\")\n",
    "plt.plot(c, train_errors, c='purple', label='Training error')\n",
    "plt.plot(c, test_errors, c='orange', label='Testing error')\n",
    "plt.legend()\n",
    "        \n",
    "plt.show()"
   ]
  },
  {
   "cell_type": "code",
   "execution_count": 172,
   "metadata": {},
   "outputs": [
    {
     "name": "stdout",
     "output_type": "stream",
     "text": [
      "[('lr', LogisticRegression(C=0.01, solver='liblinear')), ('knn', KNeighborsClassifier(n_neighbors=15)), ('dctree', DecisionTreeClassifier(max_depth=37, splitter='random'))]\n",
      ">stacking 0.914 (0.029)\n",
      ">stacking 0.826 (0.033)\n",
      ">stacking 0.609 (0.041)\n"
     ]
    },
    {
     "data": {
      "image/png": "[encoded data removed]",
      "text/plain": [
       "<Figure size 432x288 with 1 Axes>"
      ]
     },
     "metadata": {
      "needs_background": "light"
     },
     "output_type": "display_data"
    }
   ],
   "source": [
    "from sklearn.ensemble import StackingClassifier\n",
    "from sklearn.model_selection import cross_val_score\n",
    "from sklearn.model_selection import RepeatedStratifiedKFold\n",
    "\n",
    "# evaluate a given model using cross-validation\n",
    "def evaluate_model(model, X, y):\n",
    "    cv = RepeatedStratifiedKFold(n_repeats=3, random_state=1)\n",
    "    scores = cross_val_score(model, X, y, scoring='accuracy', cv=cv, n_jobs=-1, error_score='raise')\n",
    "    return scores\n",
    "    \n",
    "def get_stacking():\n",
    "    # define the base models\n",
    "    level0 = list()\n",
    "    level0.append(('lr', LogisticRegression(solver='liblinear', C=0.01)))\n",
    "    level0.append(('knn', KNeighborsClassifier(n_neighbors=15)))\n",
    "    level0.append(('dctree', DecisionTreeClassifier(splitter='random', max_depth=37)))\n",
    "    #level0.append(('svm', SVC(C=1, gamma=0.91)))\n",
    "    # define meta learner model\n",
    "    level1 = LogisticRegression()\n",
    "    # define the stacking ensemble\n",
    "    model = StackingClassifier(estimators=level0, final_estimator=level1, cv=5)\n",
    "    return level0, model\n",
    "\n",
    "models, model = get_stacking()\n",
    "\n",
    "print(models)\n",
    "\n",
    "results, names = list(), list()\n",
    "\n",
    "for each in models:\n",
    "    scores = evaluate_model(each[1], examples, labels)\n",
    "    results.append(scores)\n",
    "    names.append(each[0])\n",
    "    print('>%s %.3f (%.3f)' % (name, np.mean(scores), np.std(scores)))\n",
    "    \n",
    "\n",
    "plt.boxplot(results, labels=names, showmeans=True)\n",
    "plt.show()"
   ]
  },
  {
   "cell_type": "code",
   "execution_count": 173,
   "metadata": {},
   "outputs": [
    {
     "name": "stdout",
     "output_type": "stream",
     "text": [
      "Predicted Class: Cervical spondylosis\n"
     ]
    }
   ],
   "source": [
    "model.fit(examples, labels.ravel())\n",
    "\n",
    "with open('fitted_model.pickle', 'wb') as modelFile:\n",
    "    model_final = pickle.dump(model, modelFile)\n",
    "\n",
    "with open('fitted_model.pickle', 'rb') as modelFile:\n",
    "    model_final = pickle.load(modelFile)\n",
    "\n",
    "predicted = model_final.predict(x_test.reshape(1, -1))[0]\n",
    "print(f'Predicted Class: {predicted}')"
   ]
  },
  {
   "cell_type": "code",
   "execution_count": 175,
   "metadata": {},
   "outputs": [
    {
     "name": "stdout",
     "output_type": "stream",
     "text": [
      "1.3988815846922022e+18\n"
     ]
    }
   ],
   "source": [
    "print(np.linalg.cond(examples.astype(int)))"
   ]
  },
  {
   "cell_type": "code",
   "execution_count": 177,
   "metadata": {},
   "outputs": [
    {
     "data": {
      "image/png": "[encoded data removed]",
      "text/plain": [
       "<Figure size 288x288 with 1 Axes>"
      ]
     },
     "metadata": {
      "needs_background": "light"
     },
     "output_type": "display_data"
    }
   ],
   "source": [
    "plt.matshow(df.corr())\n",
    "plt.show()"
   ]
  },
  {
   "cell_type": "code",
   "execution_count": null,
   "metadata": {},
   "outputs": [],
   "source": []
  }
 ],
 "metadata": {
  "kernelspec": {
   "display_name": "Python 3",
   "language": "python",
   "name": "python3"
  },
  "language_info": {
   "codemirror_mode": {
    "name": "ipython",
    "version": 3
   },
   "file_extension": ".py",
   "mimetype": "text/x-python",
   "name": "python",
   "nbconvert_exporter": "python",
   "pygments_lexer": "ipython3",
   "version": "3.8.3"
  }
 },
 "nbformat": 4,
 "nbformat_minor": 4
}
